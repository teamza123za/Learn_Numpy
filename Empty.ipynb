{
 "cells": [
  {
   "cell_type": "code",
   "execution_count": 1,
   "metadata": {},
   "outputs": [
    {
     "data": {
      "text/plain": [
       "array([[4.45057637e-308, 1.78021527e-306, 8.45549797e-307,\n",
       "        1.37962049e-306],\n",
       "       [1.11260619e-306, 1.78010255e-306, 9.79054228e-307,\n",
       "        4.45057637e-308],\n",
       "       [8.45596650e-307, 9.34602321e-307, 4.94065646e-322,\n",
       "        0.00000000e+000]])"
      ]
     },
     "execution_count": 1,
     "metadata": {},
     "output_type": "execute_result"
    }
   ],
   "source": [
    "import numpy as np\n",
    "np.empty([3,4])"
   ]
  },
  {
   "cell_type": "code",
   "execution_count": 2,
   "metadata": {},
   "outputs": [
    {
     "data": {
      "text/plain": [
       "array([[2.89271145e-307, 1.89142652e-307, 1.86917884e-306,\n",
       "        1.42418444e-306],\n",
       "       [1.89142313e-307, 8.01096531e-307, 9.45742969e-308,\n",
       "        1.06810607e-306],\n",
       "       [9.45727690e-308, 2.55898093e-307, 3.56034565e-307,\n",
       "        1.00135284e-307],\n",
       "       [1.11261162e-306, 2.04717117e-306, 1.95818315e-306,\n",
       "        1.39075859e-307]])"
      ]
     },
     "execution_count": 2,
     "metadata": {},
     "output_type": "execute_result"
    }
   ],
   "source": [
    "np.empty([4,4])"
   ]
  }
 ],
 "metadata": {
  "kernelspec": {
   "display_name": "Python 3",
   "language": "python",
   "name": "python3"
  },
  "language_info": {
   "codemirror_mode": {
    "name": "ipython",
    "version": 3
   },
   "file_extension": ".py",
   "mimetype": "text/x-python",
   "name": "python",
   "nbconvert_exporter": "python",
   "pygments_lexer": "ipython3",
   "version": "3.11.4"
  },
  "orig_nbformat": 4
 },
 "nbformat": 4,
 "nbformat_minor": 2
}
